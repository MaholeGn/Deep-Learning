{
  "nbformat": 4,
  "nbformat_minor": 0,
  "metadata": {
    "colab": {
      "provenance": [],
      "authorship_tag": "ABX9TyOUu+qZhspWvgEZX3XYzz23",
      "include_colab_link": true
    },
    "kernelspec": {
      "name": "python3",
      "display_name": "Python 3"
    },
    "language_info": {
      "name": "python"
    }
  },
  "cells": [
    {
      "cell_type": "markdown",
      "metadata": {
        "id": "view-in-github",
        "colab_type": "text"
      },
      "source": [
        "<a href=\"https://colab.research.google.com/github/MaholeGn/Deep-Learning/blob/main/Simple_CNN.ipynb\" target=\"_parent\"><img src=\"https://colab.research.google.com/assets/colab-badge.svg\" alt=\"Open In Colab\"/></a>"
      ]
    },
    {
      "cell_type": "code",
      "execution_count": 1,
      "metadata": {
        "id": "JphwDO6OMbv7"
      },
      "outputs": [],
      "source": [
        "import torch\n",
        "import torch.nn as nn\n",
        "import torch.nn.functional as F"
      ]
    },
    {
      "cell_type": "code",
      "source": [
        "class Model(nn.Module):\n",
        "  def __init__(self, input_feature = 12 , h1 = 8 , h2 = 9 , output = 5):\n",
        "    super().__init__()\n",
        "    self.fc1 = nn.Linear(input_feature , h1)\n",
        "    self.fc2 = nn.Linear(h1 , h2)\n",
        "    self.out = nn.Linear(h2 , output)\n",
        "\n",
        "\n",
        "  def forward()"
      ],
      "metadata": {
        "id": "BoBqfzMcMneG"
      },
      "execution_count": null,
      "outputs": []
    }
  ]
}