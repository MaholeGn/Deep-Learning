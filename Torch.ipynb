{
  "nbformat": 4,
  "nbformat_minor": 0,
  "metadata": {
    "colab": {
      "provenance": [],
      "authorship_tag": "ABX9TyMod+Z6nxLINi6MfO/rjlHg",
      "include_colab_link": true
    },
    "kernelspec": {
      "name": "python3",
      "display_name": "Python 3"
    },
    "language_info": {
      "name": "python"
    }
  },
  "cells": [
    {
      "cell_type": "markdown",
      "metadata": {
        "id": "view-in-github",
        "colab_type": "text"
      },
      "source": [
        "<a href=\"https://colab.research.google.com/github/MaholeGn/Deep-Learning/blob/main/Torch.ipynb\" target=\"_parent\"><img src=\"https://colab.research.google.com/assets/colab-badge.svg\" alt=\"Open In Colab\"/></a>"
      ]
    },
    {
      "cell_type": "markdown",
      "source": [
        " **List in Python**"
      ],
      "metadata": {
        "id": "rbCLV6fw-2tl"
      }
    },
    {
      "cell_type": "code",
      "source": [
        "list = ([5, 6 , 8 , 9],[5, 6 , 8 , 9])\n",
        "list"
      ],
      "metadata": {
        "colab": {
          "base_uri": "https://localhost:8080/"
        },
        "id": "h8E-a8xl_BAz",
        "outputId": "31690cea-3173-4c3c-9e35-c5413ba2add0"
      },
      "execution_count": null,
      "outputs": [
        {
          "output_type": "execute_result",
          "data": {
            "text/plain": [
              "([5, 6, 8, 9], [5, 6, 8, 9])"
            ]
          },
          "metadata": {},
          "execution_count": 3
        }
      ]
    },
    {
      "cell_type": "markdown",
      "source": [
        "**Numpy Array**"
      ],
      "metadata": {
        "id": "esG4TylA_WyH"
      }
    },
    {
      "cell_type": "code",
      "source": [
        "import numpy as np\n",
        "\n",
        "np1 = np.random.rand(2,4)\n",
        "np1"
      ],
      "metadata": {
        "colab": {
          "base_uri": "https://localhost:8080/"
        },
        "id": "ziWe4oTB_b3C",
        "outputId": "3abcb213-dd4c-4f5a-a9bf-337694ffcb83"
      },
      "execution_count": null,
      "outputs": [
        {
          "output_type": "execute_result",
          "data": {
            "text/plain": [
              "array([[0.7310297 , 0.69579209, 0.20714669, 0.73575374],\n",
              "       [0.41281475, 0.59290983, 0.98453416, 0.39269916]])"
            ]
          },
          "metadata": {},
          "execution_count": 5
        }
      ]
    },
    {
      "cell_type": "code",
      "source": [
        "np1.dtype"
      ],
      "metadata": {
        "colab": {
          "base_uri": "https://localhost:8080/"
        },
        "id": "uw4yIfN6Cgos",
        "outputId": "f9aff5c2-1d35-4284-b129-e4c323a3c2f9"
      },
      "execution_count": null,
      "outputs": [
        {
          "output_type": "execute_result",
          "data": {
            "text/plain": [
              "dtype('float64')"
            ]
          },
          "metadata": {},
          "execution_count": 8
        }
      ]
    },
    {
      "cell_type": "markdown",
      "source": [
        "**Tensor**"
      ],
      "metadata": {
        "id": "l4365WdLCQEF"
      }
    },
    {
      "cell_type": "code",
      "source": [
        "import torch\n",
        "tns2d = torch.randn(2 , 5)\n",
        "tns2d\n",
        "\n",
        "# tns2d.dtype\n"
      ],
      "metadata": {
        "colab": {
          "base_uri": "https://localhost:8080/"
        },
        "id": "6mzHgMh2CNSq",
        "outputId": "fb7b4e1b-16ee-4222-ad71-e8c29f2e6818"
      },
      "execution_count": null,
      "outputs": [
        {
          "output_type": "execute_result",
          "data": {
            "text/plain": [
              "tensor([[-0.0647, -1.3738,  0.2603,  0.6499,  1.0443],\n",
              "        [ 1.2217, -1.0042, -1.1842, -0.5640,  0.4113]])"
            ]
          },
          "metadata": {},
          "execution_count": 15
        }
      ]
    },
    {
      "cell_type": "code",
      "source": [
        "tns3d = torch.zeros(2,3,4)\n",
        "tns3d"
      ],
      "metadata": {
        "colab": {
          "base_uri": "https://localhost:8080/"
        },
        "id": "8Pn71aszDCXo",
        "outputId": "f23e2d81-cf79-4e84-eab6-6217a369f2ec"
      },
      "execution_count": null,
      "outputs": [
        {
          "output_type": "execute_result",
          "data": {
            "text/plain": [
              "tensor([[[0., 0., 0., 0.],\n",
              "         [0., 0., 0., 0.],\n",
              "         [0., 0., 0., 0.]],\n",
              "\n",
              "        [[0., 0., 0., 0.],\n",
              "         [0., 0., 0., 0.],\n",
              "         [0., 0., 0., 0.]]])"
            ]
          },
          "metadata": {},
          "execution_count": 18
        }
      ]
    }
  ]
}